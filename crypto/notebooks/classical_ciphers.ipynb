{
 "cells": [
  {
   "cell_type": "markdown",
   "metadata": {},
   "source": [
    "# Prerequisites to this notebook\n",
    "\n",
    "To enjoy this Jupyter notebook, this would be beneficial to have some basic notions of Python.\n",
    "We can find a lot of free tutorials on the internet, two such examples are given here:\n",
    "- https://www.learnpython.org/\n",
    "- https://www.kaggle.com/learn/python\n",
    "\n",
    "# Classical ciphers\n",
    "\n",
    "Humans have always needed to hide some secrets. Thus, cryptology (1900 BC) is almost as old as writing (3300 BC). Before to be a science related to numbers and advanced mathematics, cryptology was an art. In this section, we are going to study some classical ciphers, which are both very simple but which can provide a first information on how difficult this is to hide some secrets and to protect from attacks.\n",
    "\n",
    "## Caesar cipher\n",
    "\n",
    "The first cipher we can study is Caesar cipher, which was used by the very famous Roman emperor Julius Caesar (12 July 100 BC – 15 March 44 BC). Throughout this section, we are going to present this cipher and see it as a pretext to give an introduction to modular arithmetic.\n",
    "The principle of Caesar cipher is very simple. Each letter in the alphabet is replaced by the letter which is positionned 3 letters after. For instance, 'a' is replaced by 'd', 'b' by 'e'.\n",
    "As an exercise for you, what is the encrypted version of the word 'car'?\n",
    "Indeed, this is 'fdu'. That doesn't mean anything!\n",
    "\n",
    "### Implementation of the Caesar cipher\n",
    "\n",
    "Here is a simple implementation of the Caesar cipher.\n",
    "First, from standard Latin alphabet, we build a shifted alphabet that allows us to define a lookup table to have a correspondance between the letters in the plaintext and in the ciphertext."
   ]
  },
  {
   "cell_type": "code",
   "execution_count": 13,
   "metadata": {},
   "outputs": [
    {
     "name": "stdout",
     "output_type": "stream",
     "text": [
      "Lowercase letters:\n",
      "abcdefghijklmnopqrstuvwxyz\n",
      "\n",
      "Shifted lowercase letters:\n",
      "defghijklmnopqrstuvwxyzabc\n",
      "\n"
     ]
    }
   ],
   "source": [
    "import string\n",
    "\n",
    "def rotate_left(text, n): # rotate all the characters from a string on the left by n positions\n",
    "    return text[n:] + text[:n]\n",
    "\n",
    "lowercase_letters = string.ascii_lowercase\n",
    "print(\"Lowercase letters:\\n\" + lowercase_letters + \"\\n\")\n",
    "shifted_lowercase_letters = rotate_left(lowercase_letters, 3)\n",
    "print(\"Shifted lowercase letters:\\n\" + shifted_lowercase_letters + \"\\n\")"
   ]
  },
  {
   "cell_type": "code",
   "execution_count": null,
   "metadata": {},
   "outputs": [],
   "source": [
    "def encrypt_caesar(plaintext):\n",
    "    plaintext = plaintext.lower() # convert all the capital letters from the text into lowercase\n",
    "    ciphertext = \"\"\n",
    "    for letter in plaintext:\n",
    "        if letter.isalpha() and letter.islower():\n",
    "            index = lowercase_letters.index(letter)\n",
    "            ciphertext += shifted_lowercase_letters[index]\n",
    "        else:\n",
    "            ciphertext += letter # we keep the characters which are not Latin letters as in the plaintext\n",
    "    return ciphertext"
   ]
  },
  {
   "cell_type": "code",
   "execution_count": 15,
   "metadata": {},
   "outputs": [
    {
     "name": "stdout",
     "output_type": "stream",
     "text": [
      "Plaintext:\n",
      "RaptX is an amazing collaborative cybersecurity community!!\n",
      "\n",
      "Ciphertext:\n",
      "udswa lv dq dpdclqj frooderudwlyh fbehuvhfxulwb frppxqlwb!!\n"
     ]
    }
   ],
   "source": [
    "plaintext = \"RaptX is an amazing collaborative cybersecurity community!!\"\n",
    "print(\"Plaintext:\\n\" + plaintext + \"\\n\")\n",
    "ciphertext = encrypt_caesar(plaintext)\n",
    "print(\"Ciphertext:\\n\" + ciphertext)"
   ]
  },
  {
   "cell_type": "markdown",
   "metadata": {},
   "source": [
    "Now, play with it a bit yourself! Complete the code in the following cell in order to encrypt the message you want and send it to the Emperor Augustus."
   ]
  },
  {
   "cell_type": "code",
   "execution_count": null,
   "metadata": {},
   "outputs": [],
   "source": [
    "message = \"\" # fill in the message you want to encrypt here\n",
    "\n",
    "# Uncomment and complete the following lines to encrypt your message and to print the encrypted message!\n",
    " \n",
    "# encrypted_message = ...\n",
    "# print(encrypted_message)"
   ]
  },
  {
   "cell_type": "markdown",
   "metadata": {},
   "source": [
    "### Cryptanalysis of the Caesar cipher\n",
    "\n",
    "Of course, the Caesar cipher is very insecure. Once we know how the cipher works, to decipher an encrypted text, we can simply use the lookup table in the other way."
   ]
  },
  {
   "cell_type": "code",
   "execution_count": 18,
   "metadata": {},
   "outputs": [],
   "source": [
    "def decrypt_caesar(ciphertext):\n",
    "    ciphertext = ciphertext.lower() # convert all the capital letters from the text into lowercase\n",
    "    plaintext = \"\"\n",
    "    for letter in ciphertext:\n",
    "        if letter.isalpha() and letter.islower():\n",
    "            index = shifted_lowercase_letters.index(letter)\n",
    "            plaintext += lowercase_letters[index]\n",
    "        else:\n",
    "            plaintext += letter # we keep the characters which are not Latin letters as in the plaintext\n",
    "    return plaintext"
   ]
  },
  {
   "cell_type": "code",
   "execution_count": 19,
   "metadata": {},
   "outputs": [
    {
     "name": "stdout",
     "output_type": "stream",
     "text": [
      "Ciphertext:\n",
      "udswa lv dq dpdclqj frooderudwlyh fbehuvhfxulwb frppxqlwb!!\n",
      "\n",
      "Plaintext:\n",
      "raptx is an amazing collaborative cybersecurity community!!\n"
     ]
    }
   ],
   "source": [
    "ciphertext = \"udswa lv dq dpdclqj frooderudwlyh fbehuvhfxulwb frppxqlwb!!\"\n",
    "print(\"Ciphertext:\\n\" + ciphertext + \"\\n\")\n",
    "plaintext = decrypt_caesar(ciphertext)\n",
    "print(\"Plaintext:\\n\" + plaintext)"
   ]
  },
  {
   "cell_type": "markdown",
   "metadata": {},
   "source": [
    "In the following cell, check out if the Emperor Augustus will be able to decipher the message you sent him at the end of the previous section!"
   ]
  },
  {
   "cell_type": "code",
   "execution_count": null,
   "metadata": {},
   "outputs": [],
   "source": [
    "# Uncomment and complete the following lines to play with the decription function\n",
    "\n",
    "# ciphertext = ???\n",
    "# plaintext = ???\n",
    "# print(plaintext)"
   ]
  },
  {
   "cell_type": "markdown",
   "metadata": {},
   "source": [
    "## Substitution ciphers\n",
    "\n",
    "Substitution ciphers are a particular case of what is called symmetric cryptography. The principle of symmetric cryptography is the following one: if two persons, let say Alice and Bob, want to communicate and have a shared information (called a secret key), they can use this information they have in common and that nobody else knows. \n",
    "This is a big weakness of the Caesar cipher we have seen previously: it is always using the same key, \n",
    "The size of the keyspace is of a great importance in cryptology. \n",
    "\n",
    "### Implementation of a substitution cipher"
   ]
  },
  {
   "cell_type": "markdown",
   "metadata": {},
   "source": [
    "### Cryptanalysis of substitution ciphers"
   ]
  }
 ],
 "metadata": {
  "kernelspec": {
   "display_name": "3.13-venv",
   "language": "python",
   "name": "python3"
  },
  "language_info": {
   "codemirror_mode": {
    "name": "ipython",
    "version": 3
   },
   "file_extension": ".py",
   "mimetype": "text/x-python",
   "name": "python",
   "nbconvert_exporter": "python",
   "pygments_lexer": "ipython3",
   "version": "3.13.1"
  }
 },
 "nbformat": 4,
 "nbformat_minor": 2
}
